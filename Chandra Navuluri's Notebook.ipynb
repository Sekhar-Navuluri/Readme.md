{
 "cells": [
  {
   "cell_type": "markdown",
   "metadata": {},
   "source": [
    "<center>\n",
    "    <img src=\"https://cf-courses-data.s3.us.cloud-object-storage.appdomain.cloud/IBMDeveloperSkillsNetwork-DS0105EN-SkillsNetwork/labs/Module2/images/SN_web_lightmode.png\" width=\"300\" alt=\"cognitiveclass.ai logo\">\n",
    "</center>\n"
   ]
  },
  {
   "cell_type": "markdown",
   "metadata": {},
   "source": [
    "#### Add your code below following the instructions given in the course\n"
   ]
  },
  {
   "cell_type": "markdown",
   "metadata": {},
   "source": [
    "Exercise 2 - Create a markdown cell with the title of the notebook. "
   ]
  },
  {
   "cell_type": "markdown",
   "metadata": {},
   "source": [
    "Title: Chandra Navuluri's Peer-graded Assignment"
   ]
  },
  {
   "cell_type": "markdown",
   "metadata": {},
   "source": [
    "Exercise 3 - Create a markdown cell for an introduction. "
   ]
  },
  {
   "cell_type": "markdown",
   "metadata": {},
   "source": [
    "Introduction: I am a organic chemistry scientist trying to learn data science"
   ]
  },
  {
   "cell_type": "markdown",
   "metadata": {},
   "source": [
    "Exercise 4 - Create a markdown cell to list data science languages."
   ]
  },
  {
   "cell_type": "markdown",
   "metadata": {},
   "source": [
    "Data Science Languages:\n",
    "\n",
    "Well, there are quite a few! For now there are only two, Python and R, for me! Java, Scala, Julia and C++ can wait for their turn..."
   ]
  },
  {
   "cell_type": "markdown",
   "metadata": {},
   "source": [
    "Exercise 5 - Create a markdown cell to list data science libraries."
   ]
  },
  {
   "cell_type": "markdown",
   "metadata": {},
   "source": [
    "Following is a list of popular data dcience libraries:\n",
    "\n",
    "Pandas, SciPy, NumPy, Matplotlib, Seaborn, SciekitLearn, Keras, Tensorflow, and PyTorch are some of the popular Python libraries.\n",
    "\n",
    "dplyr, stringr, ggplot, and caret are some of the popular R libraries used in data science."
   ]
  },
  {
   "cell_type": "markdown",
   "metadata": {},
   "source": [
    "Exercise 6 - Create a markdown cell with a table of Data Science tools.\n",
    "\n",
    "The following table summarizes Data Science tools"
   ]
  },
  {
   "cell_type": "markdown",
   "metadata": {},
   "source": [
    "|Data Science Tools|\n",
    "|------------------|\n",
    "|Languages: Python, R, SQL, Java, Julia, C++|\n",
    "|Data management: MySQL, PostgreSQL,MongoDB, ApacheCouch DB, Apache Cassandra, Hadoop File System, Ceph, Elastic Search|\n",
    "|Data integration/Transformation: ApacheAirFlow, KubeFlow, ApacheKafka, ApacheNifi, ApacheSparkSQL, NodeRED|\n",
    "|Visualization: PixieDust, Hue, Kibana, ApacheSuperset|\n",
    "|Model Deployment: Apache PredictionIO, Seldon, Kubernetes, RedHat Openshift, Mleap, Tensorflow service/lite/dot JS|\n",
    "|Model monitoring: ModelDB, Prometheus,IBM AIFairness 360, IBM Adversarial 360 Toolbox, IBM AI Explainability 360|\n",
    "|Code Asset Management: Git, GitHub, GitLab, BitBucket|\n",
    "|Data Asset Management: Apache Atlas, ODPi Egeria, Kylo|"
   ]
  },
  {
   "cell_type": "markdown",
   "metadata": {},
   "source": [
    "Exercise 7 - Create a markdown cell introducing arithmetic expression examples"
   ]
  },
  {
   "cell_type": "markdown",
   "metadata": {},
   "source": [
    "Following are the symbols for general arithmetric operations\n",
    "\n",
    "Addition: +\n",
    "Subtraction: -\n",
    "Multiplication: *\n",
    "Division: /"
   ]
  },
  {
   "cell_type": "markdown",
   "metadata": {},
   "source": [
    "Exercise 8 - Create a code cell to multiply and add numbers. \n",
    "\n",
    "Example below shows the total price for an online purchase of 15 items that cost 10 dollars each, taxed at 13 percent on the purchase and requires 10 dollars for shipping"
   ]
  },
  {
   "cell_type": "code",
   "execution_count": 10,
   "metadata": {},
   "outputs": [
    {
     "name": "stdout",
     "output_type": "stream",
     "text": [
      "179.5\n"
     ]
    }
   ],
   "source": [
    "Cost = 10\n",
    "Number = 15\n",
    "Total = Cost*Number\n",
    "Shipping = 10\n",
    "Tax = Total*0.13\n",
    "print(Bill+Tax+Shipping)\n"
   ]
  },
  {
   "cell_type": "markdown",
   "metadata": {},
   "source": [
    "Exercise 9 - Create a code cell to convert minutes to hours."
   ]
  },
  {
   "cell_type": "code",
   "execution_count": 14,
   "metadata": {},
   "outputs": [
    {
     "name": "stdout",
     "output_type": "stream",
     "text": [
      "Enter your time in minutes:\n",
      "420\n",
      "number of hours is 7.0\n"
     ]
    }
   ],
   "source": [
    "minutes = int(input(\"Enter your time in minutes:\\n\"))\n",
    "hours = minutes/60\n",
    "print(f\"number of hours is {hours}\")"
   ]
  },
  {
   "cell_type": "markdown",
   "metadata": {},
   "source": [
    "Exercise 10 -Insert a markdown cell to list Objectives."
   ]
  },
  {
   "cell_type": "markdown",
   "metadata": {},
   "source": [
    "Objectives:\n",
    "Refresh memory or learn concepts in calculus, algebra, statistics and probablity\n",
    "Practice coding in python\n",
    "Learn regression and other popular algorithms and associated math concepts\n",
    "Learn handling and manipulation of data"
   ]
  },
  {
   "cell_type": "markdown",
   "metadata": {},
   "source": [
    "Exercise 11 - Create a markdown cell to indicate the Author’s name."
   ]
  },
  {
   "cell_type": "markdown",
   "metadata": {},
   "source": [
    "Name of the Author: Chandra Sekhar Navuluri"
   ]
  }
 ],
 "metadata": {
  "kernelspec": {
   "display_name": "Python 3 (ipykernel)",
   "language": "python",
   "name": "python3"
  },
  "language_info": {
   "codemirror_mode": {
    "name": "ipython",
    "version": 3
   },
   "file_extension": ".py",
   "mimetype": "text/x-python",
   "name": "python",
   "nbconvert_exporter": "python",
   "pygments_lexer": "ipython3",
   "version": "3.11.7"
  }
 },
 "nbformat": 4,
 "nbformat_minor": 4
}
